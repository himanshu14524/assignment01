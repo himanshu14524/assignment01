{
 "cells": [
  {
   "cell_type": "code",
   "execution_count": 3,
   "id": "1ef454f0-fdb8-4210-a054-a6394657d68e",
   "metadata": {},
   "outputs": [
    {
     "data": {
      "text/plain": [
       "list"
      ]
     },
     "execution_count": 3,
     "metadata": {},
     "output_type": "execute_result"
    }
   ],
   "source": [
    "//question 1\n",
    "S = 'himanshu','siddharth','aman'\n",
    "L = ['himanshu',' siddharth','aman']\n",
    "type(L)\n"
   ]
  },
  {
   "cell_type": "code",
   "execution_count": 7,
   "id": "eb8326d5-8fb6-4e66-83ae-2c7353e81c37",
   "metadata": {},
   "outputs": [
    {
     "data": {
      "text/plain": [
       "tuple"
      ]
     },
     "execution_count": 7,
     "metadata": {},
     "output_type": "execute_result"
    }
   ],
   "source": [
    "t = ('himanshu',' siddharth','aman')\n",
    "type(t)\n",
    "     \n"
   ]
  },
  {
   "cell_type": "code",
   "execution_count": null,
   "id": "60f42dd1-4c27-4ebe-9b8b-6d5b66c8d680",
   "metadata": {},
   "outputs": [
    {
     "data": {
      "text/plain": [
       "tuple"
      ]
     },
     "execution_count": 8,
     "metadata": {},
     "output_type": "execute_result"
    }
   ],
   "source": [
    "f = 12.3,3.4,1.34\n",
    "type(f)"
   ]
  },
  {
   "cell_type": "code",
   "execution_count": null,
   "id": "4ea44cac-6a90-40a2-bd1f-a9f94fa45e26",
   "metadata": {},
   "outputs": [
    {
     "ename": "SyntaxError",
     "evalue": "invalid syntax (1032683232.py, line 1)",
     "output_type": "error",
     "traceback": [
      "\u001b[0;36m  Cell \u001b[0;32mIn[1], line 1\u001b[0;36m\u001b[0m\n\u001b[0;31m    //question 2\u001b[0m\n\u001b[0m    ^\u001b[0m\n\u001b[0;31mSyntaxError\u001b[0m\u001b[0;31m:\u001b[0m invalid syntax\n"
     ]
    }
   ],
   "source": [
    "//question 2\n",
    "(i) var1 = ' '\n",
    "This variable var1 is a string that\n",
    "contains a single space character.\n",
    "\n",
    "(ii) var2 = '[ DS , ML , Python]'\n",
    "This variable var2 is also a string,\n",
    "but it contains a sequence of characters enclosed\n",
    "in single quotes. The characters inside the quotes are not\n",
    "treated as separate elements or words; \n",
    "they are considered part of the string.\n",
    "\n",
    "(iii) var3 = ['DS', 'ML', 'Python']\n",
    "This variable var3 is a list that contains three string elements:\n",
    "    'DS', 'ML', and 'Python'. The elements \n",
    "    are enclosed in square brackets and separated by commas.\n",
    "\n",
    "(iv) var4 = 1\n",
    "This variable var4 is an integer with the value 1.\n",
    "\n",
    "Please note that in the given example,\n",
    "var2 is a string representation of a list,\n",
    "while var3 is an actual list containing string elements."
   ]
  },
  {
   "cell_type": "code",
   "execution_count": null,
   "id": "ddaa56d6-2b5f-4cb5-a942-c16b3701d068",
   "metadata": {},
   "outputs": [],
   "source": [
    "//question 3\n",
    "\n",
    "(i) / (Division Operator):\n",
    "The division operator / is used to perform division \n",
    "between two numbers and returns the quotient as a float value\n",
    "\n",
    "example :a = 10\n",
    "b = 3\n",
    "result = a / b\n",
    "print(result)\n",
    "//output :3.111"
   ]
  },
  {
   "cell_type": "code",
   "execution_count": null,
   "id": "45cfe056-7786-4417-8009-5707abce6342",
   "metadata": {},
   "outputs": [],
   "source": [
    "//question 4\n",
    "\n",
    "(ii) % (Modulo Operator):\n",
    "The modulo operator % is used to find the remainder of the division operation.\n",
    "\n",
    "Example:\n",
    "a = 10\n",
    "b = 3\n",
    "result = a % b\n",
    "print(result)\n",
    "//output: 1\n"
   ]
  },
  {
   "cell_type": "code",
   "execution_count": null,
   "id": "8cacd90a-7dbc-4086-b607-2a00390ad6d5",
   "metadata": {},
   "outputs": [],
   "source": [
    "(iii) // (Floor Division Operator):\n",
    "The floor division operator // is used to perform division between two numbers and returns the quotient as an integer value (rounded down to the nearest whole number).\n",
    "\n",
    "Example:\n",
    "a = 10\n",
    "b = 3\n",
    "result = a // b\n",
    "print(result)\n",
    "//output:3"
   ]
  },
  {
   "cell_type": "code",
   "execution_count": null,
   "id": "53e33242-a094-4d49-8854-dac53a87cd09",
   "metadata": {},
   "outputs": [],
   "source": [
    "(iv) ** (Exponentiation Operator):\n",
    "The exponentiation operator ** is used to raise a number to the power of another number.\n",
    "\n",
    "Example:\n",
    "a = 2\n",
    "b = 3\n",
    "result = a ** b\n",
    "print(result)\n",
    "//output:8"
   ]
  },
  {
   "cell_type": "code",
   "execution_count": null,
   "id": "a107ff91-3aed-4d55-a4cd-bb3114c935ea",
   "metadata": {},
   "outputs": [],
   "source": [
    "//question 5\n",
    "\n",
    "my_list = [1, \"Hello\", 3.14, True, [1, 2, 3], (4, 5), {'name': 'John', 'age': 25}, None, 10.5, False]\n",
    "\n",
    "for item in my_list:\n",
    "    print(f\"Element: {item}, Data Type: {type(item)}\")\n"
   ]
  },
  {
   "cell_type": "code",
   "execution_count": null,
   "id": "0c64f363-7f38-487c-9f93-4cb714509507",
   "metadata": {},
   "outputs": [],
   "source": [
    "//question 6\n",
    "A = 42  # Dividend\n",
    "B = 7   # Divisor\n",
    "\n",
    "count = 0   # Variable to count the number of divisions\n",
    "\n",
    "while A % B == 0:\n",
    "    A = A // B\n",
    "    count += 1\n",
    "\n",
    "print(f\"A is divisible by B {count} times.\")\n"
   ]
  },
  {
   "cell_type": "code",
   "execution_count": null,
   "id": "5e5fca7b-58d8-4d5a-8677-04f143046efa",
   "metadata": {},
   "outputs": [],
   "source": [
    "// question 7\n",
    "my_list = [4, 7, 12, 15, 18, 21, 24, 28, 30, 33, 36, 39,\n",
    "           42, 45, 48, 52, 55, 58, 60, 63, 66, 69, 72, 75, 78]\n",
    "\n",
    "for element in my_list:\n",
    "    if element % 3 == 0:\n",
    "        print(f\"{element} is divisible by 3.\")\n",
    "    else:\n",
    "        print(f\"{element} is not divisible by 3.\")\n"
   ]
  },
  {
   "cell_type": "code",
   "execution_count": null,
   "id": "81ce3349-a542-4e42-a192-3b072e14b9a8",
   "metadata": {},
   "outputs": [],
   "source": [
    "//question 8\n",
    "Immutable data types are those whose values cannot be changed after they are created. \n",
    "\n",
    "Example:\n",
    "string = \"Hello\"\n",
    "print(string)  # Output: Hello\n",
    "\n",
    "string += \" World\"\n",
    "print(string)  # Output: Hello World\n",
    "\n",
    "# The original string remains unchanged.\n",
    "\n",
    "Mutable data types, on the other hand, are those whose values can be changed after they are created.\n",
    "example:\n",
    "    my_list = [1, 2, 3]\n",
    "print(my_list)  # Output: [1, 2, 3]\n",
    "\n",
    "my_list.append(4)\n",
    "print(my_list)  # Output: [1, 2, 3, 4]\n",
    "\n",
    "# The original list is modified\n"
   ]
  }
 ],
 "metadata": {
  "kernelspec": {
   "display_name": "Python 3 (ipykernel)",
   "language": "python",
   "name": "python3"
  },
  "language_info": {
   "codemirror_mode": {
    "name": "ipython",
    "version": 3
   },
   "file_extension": ".py",
   "mimetype": "text/x-python",
   "name": "python",
   "nbconvert_exporter": "python",
   "pygments_lexer": "ipython3",
   "version": "3.10.8"
  }
 },
 "nbformat": 4,
 "nbformat_minor": 5
}
